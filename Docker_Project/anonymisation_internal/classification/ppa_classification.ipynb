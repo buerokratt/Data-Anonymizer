{
 "cells": [
  {
   "cell_type": "markdown",
   "id": "8e09af62-8104-4bae-acc5-d824596d452c",
   "metadata": {
    "pycharm": {
     "name": "#%% md\n"
    }
   },
   "source": [
    "## Multi label text classification "
   ]
  },
  {
   "cell_type": "code",
   "execution_count": 4,
   "id": "4713d39e-1ea9-480d-9922-231f54e4f1ac",
   "metadata": {
    "pycharm": {
     "name": "#%%\n"
    }
   },
   "outputs": [],
   "source": [
    "import matplotlib.pyplot as plt"
   ]
  },
  {
   "cell_type": "code",
   "execution_count": 1,
   "id": "a7db7769-336b-44fa-aee3-d79018f75200",
   "metadata": {
    "pycharm": {
     "name": "#%%\n"
    }
   },
   "outputs": [],
   "source": [
    "label_counts = [12148, 9711, 1363, 1337, 1253, 1138, 860, 680, 658,381, 359, 147, 134, 107, 98, 94, 85, 79,78, 73, 70, 45, 41, 35, 33, 32, 30,28, 24, 24, 21, 19, 17, 17, 14, 14,12, 11, 11, 9, 9, 9, 8, 7, 7,7, 3]"
   ]
  },
  {
   "cell_type": "markdown",
   "id": "b9790c4e-711c-4153-9f3b-353f86c93e99",
   "metadata": {
    "pycharm": {
     "name": "#%% md\n"
    }
   },
   "source": [
    "Number of total different labels: "
   ]
  },
  {
   "cell_type": "code",
   "execution_count": 2,
   "id": "842a2e5e-be8f-4310-b6f0-140524ab63a0",
   "metadata": {
    "pycharm": {
     "name": "#%%\n"
    }
   },
   "outputs": [
    {
     "data": {
      "text/plain": [
       "47"
      ]
     },
     "execution_count": 2,
     "metadata": {},
     "output_type": "execute_result"
    }
   ],
   "source": [
    "len(label_counts)"
   ]
  },
  {
   "cell_type": "code",
   "execution_count": 12,
   "id": "cfdcd2e7-eae3-4335-934a-303fe3aba0cb",
   "metadata": {
    "pycharm": {
     "name": "#%%\n"
    }
   },
   "outputs": [
    {
     "data": {
      "text/plain": [
       "<BarContainer object of 47 artists>"
      ]
     },
     "execution_count": 12,
     "metadata": {},
     "output_type": "execute_result"
    },
    {
     "data": {
      "image/png": "[encoded data removed]",
      "text/plain": [
       "<Figure size 432x288 with 1 Axes>"
      ]
     },
     "metadata": {
      "needs_background": "light"
     },
     "output_type": "display_data"
    }
   ],
   "source": [
    "plt.bar(range(0, len(label_counts)), label_counts)"
   ]
  },
  {
   "cell_type": "markdown",
   "id": "0d47f61d-0a6e-47fc-93c1-866ceea6dea5",
   "metadata": {
    "pycharm": {
     "name": "#%% md\n"
    }
   },
   "source": [
    "Total amount of data: "
   ]
  },
  {
   "cell_type": "code",
   "execution_count": 3,
   "id": "ccc5dd1a-a165-437b-862c-b5dbe78cf45a",
   "metadata": {
    "pycharm": {
     "name": "#%%\n"
    }
   },
   "outputs": [
    {
     "data": {
      "text/plain": [
       "40553"
      ]
     },
     "execution_count": 3,
     "metadata": {},
     "output_type": "execute_result"
    }
   ],
   "source": [
    "texts = [37570,2030,800,100,30,12,7,3,1]\n",
    "sum(texts)"
   ]
  },
  {
   "cell_type": "code",
   "execution_count": 11,
   "id": "e3cc3059-a53b-4705-bb22-9a1446830cc0",
   "metadata": {
    "pycharm": {
     "name": "#%%\n"
    }
   },
   "outputs": [
    {
     "data": {
      "text/plain": [
       "<BarContainer object of 9 artists>"
      ]
     },
     "execution_count": 11,
     "metadata": {},
     "output_type": "execute_result"
    },
    {
     "data": {
      "image/png": "[encoded data removed]",
      "text/plain": [
       "<Figure size 432x288 with 1 Axes>"
      ]
     },
     "metadata": {
      "needs_background": "light"
     },
     "output_type": "display_data"
    }
   ],
   "source": [
    "plt.bar(range(1,10), texts)"
   ]
  },
  {
   "cell_type": "markdown",
   "id": "d5e8cd70-a354-4099-8b44-d66c105327f5",
   "metadata": {
    "pycharm": {
     "name": "#%% md\n"
    }
   },
   "source": [
    "## average amount of labels per point"
   ]
  },
  {
   "cell_type": "code",
   "execution_count": 15,
   "id": "72c76ab2-3958-46e9-ba09-efc8ee305ad4",
   "metadata": {
    "pycharm": {
     "name": "#%%\n"
    }
   },
   "outputs": [
    {
     "data": {
      "text/plain": [
       "1.10309964737504"
      ]
     },
     "execution_count": 15,
     "metadata": {},
     "output_type": "execute_result"
    }
   ],
   "source": [
    "sum([i*count for i, count in zip(range(1, 10), texts)])/sum(texts)"
   ]
  },
  {
   "cell_type": "markdown",
   "id": "bcaf6de2-ebe2-4098-987c-8e4da0f8625f",
   "metadata": {
    "pycharm": {
     "name": "#%% md\n"
    }
   },
   "source": [
    "### LF-AmazonTitles-131K \n",
    "Can be downloaded here: http://manikvarma.org/downloads/XC/XMLRepository.html"
   ]
  },
  {
   "cell_type": "code",
   "execution_count": 103,
   "id": "e3f6c554-922a-4dbf-8d10-b7b1ecb26c84",
   "metadata": {
    "pycharm": {
     "name": "#%%\n"
    }
   },
   "outputs": [],
   "source": [
    "import json \n",
    "\n",
    "f = open('trn.json', 'r', encoding='utf-8')\n",
    "#t = f.read()\n",
    "con = json.loads(r'['+f.read().replace('}{','},{').replace('}\\n{','},{')+ '}]')\n",
    "f.close()"
   ]
  },
  {
   "cell_type": "code",
   "execution_count": 86,
   "id": "bd7b4851-9261-4e8b-b6f0-ea9477b76cfd",
   "metadata": {
    "pycharm": {
     "name": "#%%\n"
    }
   },
   "outputs": [
    {
     "data": {
      "text/plain": [
       "{'uid': 'B0007J0FJ0',\n",
       " 'title': 'Methodical Bible study: A new approach to hermeneutics',\n",
       " 'content': 'Inductive study compares related Bible texts in order to let the Bible interpret itself, rather than approaching Scripture with predetermined notions of what it will say.  Dr. Trainas Methodical Bible Study was not intended to be the last word in inductive Bible study; but since its first publication in 1952, it has become a foundational text in this field.  Christian colleges and seminaries have made it required reading for beginning Bible students, while many churches have used it for their lay Bible study groups.  Dr. Traina summarizes its success in this comment:  \"If the truths of the Bible already resided in man, there would be no need for the Bible and this manual would be superfluous.  But the fact is the Bible is an objective body of literature which exists because man needs to know certain truths which he himself cannot know.  There are two main approaches open to the Bible student.  One is deduction, which begins with generalizations and moves for their support to the particulars.  By its very nature deduction tends to be subjective and prejudicial.  Its opposite, induction, is objective and impartial; for it demands that one first examine the particulars of the Scriptures and that ones conclusions be based on those particulars.  Such an approach is sound because, being objective, it corresponds to the objective nature of the Scriptures.\"  This book fills the need for a simple, practical textbook in hermeneutics.  It encourages the serious Bible student to practice the best kind of hermeneutic, which allows the Word of God to speak for itself.\\t      --This text refers to an out of print or unavailable edition of this title.\\tRobert A. Traina was Thompson Professor of Biblical Studies at Asbury Theological Seminary, Wilmore KY.  He held the STB and STM degrees from Biblical Seminary in New York and the PhD degree from Drew Uinversity.\\t      --This text refers to an out of print or unavailable edition of this title.',\n",
       " 'target_ind': [4315],\n",
       " 'target_rel': [1.0]}"
      ]
     },
     "execution_count": 86,
     "metadata": {},
     "output_type": "execute_result"
    }
   ],
   "source": [
    "con[0]"
   ]
  },
  {
   "cell_type": "markdown",
   "id": "2d2f4a86-c06e-4912-9cca-bdd66297511d",
   "metadata": {
    "pycharm": {
     "name": "#%% md\n"
    }
   },
   "source": [
    "## Initial label count "
   ]
  },
  {
   "cell_type": "code",
   "execution_count": 87,
   "id": "71b8b3f3-a3f8-4b22-a25d-7a685a9b8dbf",
   "metadata": {
    "pycharm": {
     "name": "#%%\n"
    }
   },
   "outputs": [],
   "source": [
    "labels = []\n",
    "for sample in con: \n",
    "    labels.extend(sample['target_ind'])"
   ]
  },
  {
   "cell_type": "code",
   "execution_count": 88,
   "id": "e6c4a617-298d-4c9f-95d8-5b749e46cc71",
   "metadata": {
    "pycharm": {
     "name": "#%%\n"
    }
   },
   "outputs": [],
   "source": [
    "from collections import Counter\n",
    "\n",
    "counter = Counter(labels)"
   ]
  },
  {
   "cell_type": "code",
   "execution_count": 139,
   "id": "db0728f7-ac20-41ba-bc26-b1e5d5e3f469",
   "metadata": {
    "collapsed": true,
    "jupyter": {
     "outputs_hidden": true
    },
    "tags": [],
    "pycharm": {
     "name": "#%%\n"
    }
   },
   "outputs": [
    {
     "data": {
      "text/plain": [
       "[(61484, 3),\n",
       " (77640, 3),\n",
       " (43095, 3),\n",
       " (42539, 3),\n",
       " (42550, 3),\n",
       " (123959, 3),\n",
       " (43455, 3),\n",
       " (55682, 3),\n",
       " (88961, 3),\n",
       " (72103, 3),\n",
       " (72106, 3),\n",
       " (1892, 3),\n",
       " (96243, 3),\n",
       " (24862, 3),\n",
       " (26332, 3),\n",
       " (68825, 3),\n",
       " (115132, 3),\n",
       " (7392, 3),\n",
       " (129440, 3),\n",
       " (108921, 3),\n",
       " (21104, 3),\n",
       " (115879, 3),\n",
       " (118159, 3),\n",
       " (113626, 3),\n",
       " (73339, 3),\n",
       " (14094, 3),\n",
       " (127800, 3),\n",
       " (64910, 3),\n",
       " (64911, 3),\n",
       " (92720, 3),\n",
       " (91491, 3),\n",
       " (123600, 3),\n",
       " (96845, 3),\n",
       " (11679, 3),\n",
       " (11700, 3),\n",
       " (11715, 3),\n",
       " (26039, 3),\n",
       " (13569, 3),\n",
       " (32774, 3),\n",
       " (104334, 3),\n",
       " (76292, 3),\n",
       " (103265, 3),\n",
       " (76696, 3),\n",
       " (81737, 3),\n",
       " (84155, 3),\n",
       " (86586, 3),\n",
       " (35728, 3),\n",
       " (17273, 3),\n",
       " (17285, 3),\n",
       " (39154, 3),\n",
       " (94803, 3),\n",
       " (52979, 3),\n",
       " (94027, 3),\n",
       " (51107, 3),\n",
       " (24628, 3),\n",
       " (43524, 3),\n",
       " (103613, 3),\n",
       " (65409, 3),\n",
       " (76143, 3),\n",
       " (11930, 3),\n",
       " (12110, 3),\n",
       " (115371, 3),\n",
       " (93171, 3),\n",
       " (123111, 3),\n",
       " (17047, 3),\n",
       " (17056, 3),\n",
       " (17057, 3),\n",
       " (118375, 3),\n",
       " (8132, 3),\n",
       " (123799, 3),\n",
       " (114998, 3),\n",
       " (94957, 3),\n",
       " (32572, 3),\n",
       " (32573, 3),\n",
       " (93280, 3),\n",
       " (128477, 3),\n",
       " (40947, 3),\n",
       " (40965, 3),\n",
       " (42713, 3),\n",
       " (83878, 3),\n",
       " (14881, 3),\n",
       " (63240, 3),\n",
       " (116944, 3),\n",
       " (71018, 3),\n",
       " (93087, 3),\n",
       " (106990, 3),\n",
       " (106688, 3),\n",
       " (15823, 3),\n",
       " (33382, 3),\n",
       " (101000, 3),\n",
       " (126712, 3),\n",
       " (71215, 3),\n",
       " (105343, 3),\n",
       " (124313, 3),\n",
       " (3915, 3),\n",
       " (122343, 3),\n",
       " (24097, 3),\n",
       " (117419, 3),\n",
       " (111082, 3),\n",
       " (111100, 3),\n",
       " (81137, 3),\n",
       " (101611, 3),\n",
       " (113444, 3),\n",
       " (97856, 3),\n",
       " (118895, 3),\n",
       " (124709, 3),\n",
       " (2162, 3),\n",
       " (4785, 3),\n",
       " (86424, 3),\n",
       " (26741, 3),\n",
       " (126217, 3),\n",
       " (73060, 3),\n",
       " (91577, 3),\n",
       " (2996, 3),\n",
       " (93278, 3),\n",
       " (96679, 3),\n",
       " (121210, 3),\n",
       " (121853, 3),\n",
       " (97277, 3),\n",
       " (102386, 3),\n",
       " (57100, 3),\n",
       " (77383, 3),\n",
       " (126681, 3),\n",
       " (66633, 3),\n",
       " (11417, 3),\n",
       " (100541, 3),\n",
       " (43842, 3),\n",
       " (81578, 3),\n",
       " (71902, 3),\n",
       " (101756, 3),\n",
       " (34678, 3),\n",
       " (28, 3),\n",
       " (30700, 3),\n",
       " (45082, 3),\n",
       " (39077, 3),\n",
       " (37307, 3),\n",
       " (100752, 3),\n",
       " (15351, 3),\n",
       " (65298, 3),\n",
       " (120051, 3),\n",
       " (34906, 3),\n",
       " (25536, 3),\n",
       " (2783, 3),\n",
       " (107507, 3),\n",
       " (86086, 3),\n",
       " (41292, 3),\n",
       " (42529, 3),\n",
       " (67882, 3),\n",
       " (78805, 3),\n",
       " (128987, 3),\n",
       " (52821, 3),\n",
       " (52822, 3),\n",
       " (124375, 3),\n",
       " (95011, 3),\n",
       " (45218, 3),\n",
       " (6042, 3),\n",
       " (45238, 3),\n",
       " (48296, 3),\n",
       " (98523, 3),\n",
       " (121428, 3),\n",
       " (18339, 3),\n",
       " (21139, 3),\n",
       " (119609, 3),\n",
       " (787, 3),\n",
       " (61839, 3),\n",
       " (83621, 3),\n",
       " (102079, 3),\n",
       " (102104, 3),\n",
       " (179, 3),\n",
       " (1082, 3),\n",
       " (17400, 3),\n",
       " (83966, 3),\n",
       " (11517, 3),\n",
       " (120469, 3),\n",
       " (125520, 3),\n",
       " (39260, 3),\n",
       " (77292, 3),\n",
       " (10997, 3),\n",
       " (85493, 3),\n",
       " (26888, 3),\n",
       " (81362, 3),\n",
       " (42691, 3),\n",
       " (108487, 3),\n",
       " (13601, 3),\n",
       " (10304, 3),\n",
       " (84694, 3),\n",
       " (82588, 3),\n",
       " (120482, 3),\n",
       " (75201, 3),\n",
       " (57841, 3),\n",
       " (65548, 3),\n",
       " (12819, 3),\n",
       " (106989, 3),\n",
       " (19568, 3),\n",
       " (19684, 3),\n",
       " (102254, 3),\n",
       " (21570, 3),\n",
       " (17756, 3),\n",
       " (59071, 3),\n",
       " (11877, 3),\n",
       " (83064, 3),\n",
       " (56568, 3),\n",
       " (123301, 3),\n",
       " (21822, 3),\n",
       " (33501, 3),\n",
       " (37655, 3),\n",
       " (37909, 3),\n",
       " (118061, 3),\n",
       " (26167, 3),\n",
       " (36606, 3),\n",
       " (83287, 3),\n",
       " (83288, 3),\n",
       " (77193, 3),\n",
       " (15394, 3),\n",
       " (50043, 3),\n",
       " (114143, 3),\n",
       " (2254, 3),\n",
       " (42949, 3),\n",
       " (73903, 3),\n",
       " (78056, 3),\n",
       " (10753, 3),\n",
       " (112479, 3),\n",
       " (101477, 3),\n",
       " (23819, 3),\n",
       " (84059, 3),\n",
       " (114670, 3),\n",
       " (101836, 3),\n",
       " (129860, 3),\n",
       " (55503, 3),\n",
       " (55427, 3),\n",
       " (87611, 3),\n",
       " (68601, 3),\n",
       " (20594, 3),\n",
       " (20603, 3),\n",
       " (112556, 3),\n",
       " (114404, 3),\n",
       " (28653, 3),\n",
       " (7970, 3),\n",
       " (96763, 3),\n",
       " (25646, 3),\n",
       " (91594, 3),\n",
       " (117573, 3),\n",
       " (117574, 3),\n",
       " (104442, 3),\n",
       " (33133, 3),\n",
       " (118243, 3),\n",
       " (114774, 3),\n",
       " (113559, 3),\n",
       " (114026, 3),\n",
       " (81397, 3),\n",
       " (48497, 3),\n",
       " (96653, 3),\n",
       " (30888, 3),\n",
       " (80501, 3),\n",
       " (120209, 3),\n",
       " (45565, 3),\n",
       " (96154, 3),\n",
       " (111764, 3),\n",
       " (120358, 3),\n",
       " (56090, 3),\n",
       " (87272, 3),\n",
       " (87274, 3),\n",
       " (139, 3),\n",
       " (22307, 3),\n",
       " (100439, 3),\n",
       " (74136, 3),\n",
       " (51736, 3),\n",
       " (35507, 3),\n",
       " (113571, 3),\n",
       " (7237, 3),\n",
       " (17529, 3),\n",
       " (19626, 3),\n",
       " (51579, 3),\n",
       " (77488, 3),\n",
       " (59540, 3),\n",
       " (74009, 3),\n",
       " (76294, 3),\n",
       " (52596, 3),\n",
       " (73825, 3),\n",
       " (6807, 3),\n",
       " (105136, 3),\n",
       " (97562, 3),\n",
       " (46297, 3),\n",
       " (82939, 3),\n",
       " (101361, 3),\n",
       " (73476, 3),\n",
       " (84792, 3),\n",
       " (23157, 3),\n",
       " (91101, 3),\n",
       " (64418, 3),\n",
       " (64419, 3),\n",
       " (71006, 3),\n",
       " (83745, 3),\n",
       " (65201, 3),\n",
       " (77320, 3),\n",
       " (95530, 3),\n",
       " (113492, 3),\n",
       " (121419, 3),\n",
       " (122256, 3),\n",
       " (124814, 3),\n",
       " (31146, 3),\n",
       " (96997, 3),\n",
       " (1337, 3),\n",
       " (44144, 3),\n",
       " (50601, 3),\n",
       " (108435, 3),\n",
       " (97223, 3),\n",
       " (102042, 3),\n",
       " (112827, 3),\n",
       " (11686, 3),\n",
       " (9803, 3),\n",
       " (3742, 3),\n",
       " (64506, 3),\n",
       " (64612, 3),\n",
       " (50588, 3),\n",
       " (37158, 3),\n",
       " (50025, 3),\n",
       " (2883, 3),\n",
       " (16739, 3),\n",
       " (35337, 3),\n",
       " (35338, 3),\n",
       " (49974, 3),\n",
       " (110488, 3),\n",
       " (7527, 3),\n",
       " (60884, 3),\n",
       " (36944, 3),\n",
       " (18136, 3),\n",
       " (82455, 3),\n",
       " (124416, 3),\n",
       " (130922, 3),\n",
       " (106986, 3),\n",
       " (35902, 3),\n",
       " (35904, 3),\n",
       " (74225, 3),\n",
       " (118315, 3),\n",
       " (43141, 3),\n",
       " (98284, 3),\n",
       " (31287, 3),\n",
       " (79871, 3),\n",
       " (22807, 3),\n",
       " (115874, 3),\n",
       " (15091, 3),\n",
       " (128329, 3),\n",
       " (86824, 3),\n",
       " (99494, 3),\n",
       " (49147, 3),\n",
       " (103508, 3),\n",
       " (115884, 3),\n",
       " (3629, 3),\n",
       " (106225, 3),\n",
       " (23154, 3),\n",
       " (597, 3),\n",
       " (43879, 3),\n",
       " (72204, 3),\n",
       " (127817, 3),\n",
       " (63565, 3),\n",
       " (25849, 3),\n",
       " (84127, 3),\n",
       " (95881, 3),\n",
       " (56898, 3),\n",
       " (99557, 3),\n",
       " (2950, 3),\n",
       " (994, 3),\n",
       " (125152, 3),\n",
       " (36628, 3),\n",
       " (100707, 3),\n",
       " (37810, 3),\n",
       " (20569, 3),\n",
       " (25950, 3),\n",
       " (74381, 3),\n",
       " (4974, 3),\n",
       " (31333, 3),\n",
       " (112729, 3),\n",
       " (23171, 3),\n",
       " (99881, 3),\n",
       " (100037, 3),\n",
       " (96716, 3),\n",
       " (96777, 3),\n",
       " (106812, 3),\n",
       " (106453, 3),\n",
       " (67273, 3),\n",
       " (70238, 3),\n",
       " (52096, 3),\n",
       " (75014, 3),\n",
       " (75015, 3),\n",
       " (73032, 3),\n",
       " (63850, 3),\n",
       " (70221, 3),\n",
       " (93800, 3),\n",
       " (71340, 3),\n",
       " (105709, 3),\n",
       " (117729, 3),\n",
       " (122664, 3),\n",
       " (44474, 3),\n",
       " (46866, 3),\n",
       " (49245, 3),\n",
       " (62384, 3),\n",
       " (64267, 3),\n",
       " (66961, 3),\n",
       " (39352, 3),\n",
       " (68293, 3),\n",
       " (52372, 3),\n",
       " (63789, 3),\n",
       " (119355, 3),\n",
       " (1593, 3),\n",
       " (62272, 3),\n",
       " (72078, 3),\n",
       " (107502, 3),\n",
       " (25385, 3),\n",
       " (40089, 3),\n",
       " (57477, 3),\n",
       " (59023, 3),\n",
       " (71814, 3),\n",
       " (109372, 3),\n",
       " (18807, 3),\n",
       " (126193, 3),\n",
       " (122665, 3),\n",
       " (122872, 3),\n",
       " (51592, 3),\n",
       " (71972, 3),\n",
       " (127814, 3),\n",
       " (37059, 3),\n",
       " (86008, 3),\n",
       " (123091, 3),\n",
       " (113652, 3),\n",
       " (53741, 3),\n",
       " (68343, 3),\n",
       " (91154, 3),\n",
       " (34232, 3),\n",
       " (16907, 3),\n",
       " (69816, 3),\n",
       " (17638, 3),\n",
       " (115966, 3),\n",
       " (110022, 3),\n",
       " (109366, 3),\n",
       " (81971, 3),\n",
       " (38629, 3),\n",
       " (60523, 3),\n",
       " (5830, 3),\n",
       " (17247, 3),\n",
       " (30284, 3),\n",
       " (117056, 3),\n",
       " (40775, 3),\n",
       " (68291, 3),\n",
       " (71265, 3),\n",
       " (44148, 3),\n",
       " (113985, 3),\n",
       " (125045, 3),\n",
       " (6482, 3),\n",
       " (2771, 3),\n",
       " (76347, 3),\n",
       " (94540, 3),\n",
       " (37753, 3),\n",
       " (122181, 3),\n",
       " (31735, 3),\n",
       " (29486, 3),\n",
       " (84073, 3),\n",
       " (57388, 3),\n",
       " (19707, 3),\n",
       " (35863, 3),\n",
       " (33120, 3),\n",
       " (129628, 3),\n",
       " (71324, 3),\n",
       " (122390, 3),\n",
       " (32643, 3),\n",
       " (91051, 3),\n",
       " (33496, 3),\n",
       " (92478, 3),\n",
       " (64238, 3),\n",
       " (31718, 3),\n",
       " (110278, 3),\n",
       " (122380, 3),\n",
       " (23090, 3),\n",
       " (29883, 3),\n",
       " (84443, 3),\n",
       " (84446, 3),\n",
       " (8363, 3),\n",
       " (8371, 3),\n",
       " (28910, 3),\n",
       " (174, 3),\n",
       " (19566, 3),\n",
       " (109213, 3),\n",
       " (2580, 3),\n",
       " (3565, 3),\n",
       " (65509, 3),\n",
       " (50055, 3),\n",
       " (64346, 3),\n",
       " (65204, 3),\n",
       " (43633, 3),\n",
       " (14621, 3),\n",
       " (103397, 3),\n",
       " (76505, 3),\n",
       " (88923, 3),\n",
       " (22419, 3),\n",
       " (94556, 3),\n",
       " (40151, 3),\n",
       " (49032, 3),\n",
       " (24608, 3),\n",
       " (112229, 3),\n",
       " (51534, 3),\n",
       " (11989, 3),\n",
       " (38320, 3),\n",
       " (97414, 3),\n",
       " (80051, 3),\n",
       " (80052, 3),\n",
       " (45315, 3),\n",
       " (97353, 3),\n",
       " (24682, 3),\n",
       " (29570, 3),\n",
       " (83275, 3),\n",
       " (53991, 3),\n",
       " (11840, 3),\n",
       " (28327, 3),\n",
       " (99086, 3),\n",
       " (119819, 3),\n",
       " (98867, 3),\n",
       " (92693, 3),\n",
       " (122702, 3),\n",
       " (126165, 3),\n",
       " (107037, 3),\n",
       " (56757, 3),\n",
       " (57183, 3),\n",
       " (19197, 3),\n",
       " (70365, 3),\n",
       " (24741, 3),\n",
       " (128824, 3),\n",
       " (53221, 3),\n",
       " (52731, 3),\n",
       " (61603, 3),\n",
       " (90195, 3),\n",
       " (102519, 3),\n",
       " (8600, 3),\n",
       " (8617, 3),\n",
       " (9856, 3),\n",
       " (27591, 3),\n",
       " (28557, 3),\n",
       " (105430, 3),\n",
       " (45521, 3),\n",
       " (7522, 3),\n",
       " (106918, 3),\n",
       " (34903, 3),\n",
       " (34904, 3),\n",
       " (34905, 3),\n",
       " (35007, 3),\n",
       " (13136, 3),\n",
       " (68685, 3),\n",
       " (70361, 3),\n",
       " (36513, 3),\n",
       " (73123, 3),\n",
       " (65156, 3),\n",
       " (109898, 3),\n",
       " (84944, 3),\n",
       " (42109, 3),\n",
       " (69625, 3),\n",
       " (28992, 3),\n",
       " (31498, 3),\n",
       " (31504, 3),\n",
       " (90632, 3),\n",
       " (68232, 3),\n",
       " (100724, 3),\n",
       " (30817, 3),\n",
       " (67757, 3),\n",
       " (97394, 3),\n",
       " (61006, 3),\n",
       " (108035, 3),\n",
       " (12803, 3),\n",
       " (7212, 3),\n",
       " (54116, 3),\n",
       " (54125, 3),\n",
       " (70080, 3),\n",
       " (30237, 3),\n",
       " (75447, 3),\n",
       " (78781, 3),\n",
       " (80648, 3),\n",
       " (257, 3),\n",
       " (79401, 3),\n",
       " (53409, 3),\n",
       " (97042, 3),\n",
       " (97142, 3),\n",
       " (98908, 3),\n",
       " (90399, 3),\n",
       " (45392, 3),\n",
       " (114771, 3),\n",
       " (2643, 3),\n",
       " (79571, 3),\n",
       " (20948, 3),\n",
       " (18593, 3),\n",
       " (108953, 3),\n",
       " (109101, 3),\n",
       " (78659, 3),\n",
       " (89935, 3),\n",
       " (123906, 3),\n",
       " (23864, 3),\n",
       " (82186, 3),\n",
       " (84386, 3),\n",
       " (57632, 3),\n",
       " (14674, 3),\n",
       " (57527, 3),\n",
       " (126524, 3),\n",
       " (80626, 3),\n",
       " (129024, 3),\n",
       " (104081, 3),\n",
       " (118982, 3),\n",
       " (12910, 3),\n",
       " (81328, 3),\n",
       " (100763, 3),\n",
       " (76137, 3),\n",
       " (24095, 3),\n",
       " (98869, 3),\n",
       " (123624, 3),\n",
       " (120588, 3),\n",
       " (90423, 3),\n",
       " (23818, 3),\n",
       " (20451, 3),\n",
       " (90428, 3),\n",
       " (92126, 3),\n",
       " (10140, 3),\n",
       " (11081, 3),\n",
       " (26119, 3),\n",
       " (43511, 3),\n",
       " (76476, 3),\n",
       " (1048, 3),\n",
       " (113249, 3),\n",
       " (62056, 3),\n",
       " (43390, 3),\n",
       " (44284, 3),\n",
       " (89982, 3),\n",
       " (111391, 3),\n",
       " (69494, 3),\n",
       " (101246, 3),\n",
       " (59571, 3),\n",
       " (21813, 3),\n",
       " (21817, 3),\n",
       " (92163, 3),\n",
       " (119082, 3),\n",
       " (4947, 3),\n",
       " (54824, 3),\n",
       " (55732, 3),\n",
       " (34940, 3),\n",
       " (52601, 3),\n",
       " (85021, 3),\n",
       " (62018, 3),\n",
       " (77114, 3),\n",
       " (82188, 3),\n",
       " (89744, 3),\n",
       " (50205, 3),\n",
       " (13336, 3),\n",
       " (19993, 3),\n",
       " (18936, 3),\n",
       " (32185, 3),\n",
       " (57415, 3),\n",
       " (4285, 3),\n",
       " (120145, 3),\n",
       " (72356, 3),\n",
       " (79944, 3),\n",
       " (95158, 3),\n",
       " (27025, 3),\n",
       " (23106, 3),\n",
       " (50142, 3),\n",
       " (75573, 3),\n",
       " (16206, 3),\n",
       " (16257, 3),\n",
       " (36080, 3),\n",
       " (53887, 3),\n",
       " (128732, 3),\n",
       " (128891, 3),\n",
       " (117267, 3),\n",
       " (57139, 3),\n",
       " (7369, 3),\n",
       " (15202, 3),\n",
       " (73859, 3),\n",
       " (88975, 3),\n",
       " (88976, 3),\n",
       " (89431, 3),\n",
       " (101080, 3),\n",
       " (60305, 3),\n",
       " (85899, 3),\n",
       " (83491, 3),\n",
       " (86974, 3),\n",
       " (88031, 3),\n",
       " (90989, 3),\n",
       " (99115, 3),\n",
       " (83107, 3),\n",
       " (46627, 3),\n",
       " (6389, 3),\n",
       " (88773, 3),\n",
       " (112538, 3),\n",
       " (55135, 3),\n",
       " (112468, 3),\n",
       " (77415, 3),\n",
       " (88284, 3),\n",
       " (10823, 3),\n",
       " (46819, 3),\n",
       " (48441, 3),\n",
       " (3991, 3),\n",
       " (97372, 3),\n",
       " (855, 3),\n",
       " (2285, 3),\n",
       " (67726, 3),\n",
       " (40792, 3),\n",
       " (95054, 3),\n",
       " (54008, 3),\n",
       " (17393, 3),\n",
       " (9627, 3),\n",
       " (15785, 3),\n",
       " (122411, 3),\n",
       " (46997, 3),\n",
       " (83392, 3),\n",
       " (115219, 3),\n",
       " (43647, 3),\n",
       " (43782, 3),\n",
       " (18196, 3),\n",
       " (124939, 3),\n",
       " (33622, 3),\n",
       " (78020, 3),\n",
       " (106969, 3),\n",
       " (67666, 3),\n",
       " (93350, 3),\n",
       " (62516, 3),\n",
       " (55222, 3),\n",
       " (119910, 3),\n",
       " (91212, 3),\n",
       " (111493, 3),\n",
       " (13874, 3),\n",
       " (123743, 3),\n",
       " (16578, 3),\n",
       " (63129, 3),\n",
       " (11575, 3),\n",
       " (11578, 3),\n",
       " (11584, 3),\n",
       " (121539, 3),\n",
       " (105425, 3),\n",
       " (64249, 3),\n",
       " (92086, 3),\n",
       " (95784, 3),\n",
       " (72679, 3),\n",
       " (108948, 3),\n",
       " (89875, 3),\n",
       " (126821, 3),\n",
       " (72857, 3),\n",
       " (112932, 3),\n",
       " (107864, 3),\n",
       " (83686, 3),\n",
       " (102817, 3),\n",
       " (19140, 3),\n",
       " (52555, 3),\n",
       " (64173, 3),\n",
       " (124227, 3),\n",
       " (49976, 3),\n",
       " (28457, 3),\n",
       " (109924, 3),\n",
       " (47245, 3),\n",
       " (96089, 3),\n",
       " (108073, 3),\n",
       " (129689, 3),\n",
       " (6407, 3),\n",
       " (19418, 3),\n",
       " (88678, 3),\n",
       " (52974, 3),\n",
       " (12657, 3),\n",
       " (15839, 3),\n",
       " (18896, 3),\n",
       " (23893, 3),\n",
       " (53782, 3),\n",
       " (25107, 3),\n",
       " (66172, 3),\n",
       " (1780, 3),\n",
       " (71330, 3),\n",
       " (55460, 3),\n",
       " (63763, 3),\n",
       " (105687, 3),\n",
       " (120590, 3),\n",
       " (104784, 3),\n",
       " (55502, 3),\n",
       " (52734, 3),\n",
       " (109399, 3),\n",
       " (110631, 3),\n",
       " (16263, 3),\n",
       " (55697, 3),\n",
       " (23918, 3),\n",
       " (103318, 3),\n",
       " (67179, 3),\n",
       " (84741, 3),\n",
       " (120690, 3),\n",
       " (17300, 3),\n",
       " (24605, 3),\n",
       " (55154, 3),\n",
       " (56037, 3),\n",
       " (99123, 3),\n",
       " (92102, 3),\n",
       " (15171, 3),\n",
       " (15217, 3),\n",
       " (15269, 3),\n",
       " (15319, 3),\n",
       " (26962, 3),\n",
       " (85909, 3),\n",
       " (103162, 3),\n",
       " (35807, 3),\n",
       " (81381, 3),\n",
       " (100577, 3),\n",
       " (65032, 3),\n",
       " (19316, 3),\n",
       " (54742, 3),\n",
       " (94527, 3),\n",
       " (128905, 3),\n",
       " (44598, 3),\n",
       " (49074, 3),\n",
       " (66227, 3),\n",
       " (15704, 3),\n",
       " (83038, 3),\n",
       " (5499, 3),\n",
       " (6768, 3),\n",
       " (68203, 3),\n",
       " (108262, 3),\n",
       " (3309, 3),\n",
       " (46024, 3),\n",
       " (47442, 3),\n",
       " (87193, 3),\n",
       " (93389, 3),\n",
       " (15225, 3),\n",
       " (15226, 3),\n",
       " (4293, 3),\n",
       " (8878, 3),\n",
       " (114935, 3),\n",
       " (85303, 3),\n",
       " (85304, 3),\n",
       " (75530, 3),\n",
       " (92198, 3),\n",
       " (101352, 3),\n",
       " (115269, 3),\n",
       " (92204, 3),\n",
       " (23852, 3),\n",
       " (21184, 3),\n",
       " (97165, 3),\n",
       " (114621, 3),\n",
       " (53231, 3),\n",
       " (23883, 3),\n",
       " (26586, 3),\n",
       " (124303, 3),\n",
       " (94450, 3),\n",
       " (105983, 3),\n",
       " (26824, 3),\n",
       " (28289, 3),\n",
       " (62676, 3),\n",
       " (125659, 3),\n",
       " (96994, 3),\n",
       " (49765, 3),\n",
       " (66995, 3),\n",
       " (90813, 3),\n",
       " (17228, 3),\n",
       " (17229, 3),\n",
       " (38984, 3),\n",
       " (87790, 3),\n",
       " (115935, 3),\n",
       " (59452, 3),\n",
       " (32928, 3),\n",
       " (105655, 3),\n",
       " (52048, 3),\n",
       " (105232, 3),\n",
       " (53986, 3),\n",
       " (119167, 3),\n",
       " (44774, 3),\n",
       " (40174, 3),\n",
       " (33754, 3),\n",
       " (87939, 3),\n",
       " (94400, 3),\n",
       " (90217, 3),\n",
       " (63374, 3),\n",
       " (3572, 3),\n",
       " (51744, 3),\n",
       " (60578, 3),\n",
       " (57526, 3),\n",
       " (103411, 3),\n",
       " (107636, 3),\n",
       " (45979, 3),\n",
       " (45980, 3),\n",
       " (99061, 3),\n",
       " (26290, 3),\n",
       " (113662, 3),\n",
       " (105693, 3),\n",
       " (116466, 3),\n",
       " (47637, 3),\n",
       " (111265, 3),\n",
       " (68036, 3),\n",
       " (93129, 3),\n",
       " (138, 3),\n",
       " (13494, 3),\n",
       " (39205, 3),\n",
       " (44703, 3),\n",
       " (98814, 3),\n",
       " (98818, 3),\n",
       " (98819, 3),\n",
       " (100305, 3),\n",
       " (124575, 3),\n",
       " (75403, 3),\n",
       " (5898, 3),\n",
       " (123576, 3),\n",
       " (109211, 3),\n",
       " (109932, 3),\n",
       " (91419, 3),\n",
       " (102526, 3),\n",
       " (98825, 3),\n",
       " (90773, 3),\n",
       " (73763, 3),\n",
       " (94750, 3),\n",
       " (120722, 3),\n",
       " (46906, 3),\n",
       " (58778, 3),\n",
       " (39162, 3),\n",
       " (80759, 3),\n",
       " (62694, 3),\n",
       " (67481, 3),\n",
       " (51371, 3),\n",
       " (21444, 3),\n",
       " (46060, 3),\n",
       " (77237, 3),\n",
       " (77806, 3),\n",
       " (121825, 3),\n",
       " (921, 3),\n",
       " (88028, 3),\n",
       " (16682, 3),\n",
       " (11097, 3),\n",
       " (11098, 3),\n",
       " (44269, 3),\n",
       " (68641, 3),\n",
       " (66280, 3),\n",
       " (66664, 3),\n",
       " (13160, 3),\n",
       " (37203, 3),\n",
       " (41426, 3),\n",
       " (131033, 3),\n",
       " (81325, 3),\n",
       " (5906, 3),\n",
       " (28225, 3),\n",
       " (86657, 3),\n",
       " (86801, 3),\n",
       " (18709, 3),\n",
       " (108702, 3),\n",
       " (33650, 3),\n",
       " (8954, 3),\n",
       " (103924, 3),\n",
       " (107364, 3),\n",
       " (8827, 3),\n",
       " (52567, 3),\n",
       " (41918, 3),\n",
       " (113674, 3),\n",
       " (123107, 3),\n",
       " (123108, 3),\n",
       " (98854, 3),\n",
       " (119063, 3),\n",
       " (14237, 3),\n",
       " (123904, 3),\n",
       " (77747, 3),\n",
       " (119936, 3),\n",
       " (108865, 3),\n",
       " (111599, 3),\n",
       " (1784, 3),\n",
       " (29111, 3),\n",
       " (98279, 3),\n",
       " (92395, 3),\n",
       " (32021, 3),\n",
       " (108924, 3),\n",
       " (15634, 3),\n",
       " (4418, 3),\n",
       " (124960, 3),\n",
       " (10056, 3),\n",
       " (16587, 3),\n",
       " (122253, 3),\n",
       " (26116, 3),\n",
       " (113459, 3),\n",
       " (119827, 3),\n",
       " (80627, 3),\n",
       " (69142, 3),\n",
       " (4227, 3),\n",
       " (13392, 3),\n",
       " (112327, 3),\n",
       " (26473, 3),\n",
       " (9771, 3),\n",
       " (102759, 3),\n",
       " (113162, 3),\n",
       " (22868, 3),\n",
       " (26396, 3),\n",
       " (58969, 3),\n",
       " (67536, 3),\n",
       " (47987, 3),\n",
       " (101034, 3),\n",
       " (18680, 3),\n",
       " (18695, 3),\n",
       " (13082, 3),\n",
       " (88959, 3),\n",
       " (76975, 3),\n",
       " (43515, 3),\n",
       " (68142, 3),\n",
       " (47141, 3),\n",
       " (91552, 3),\n",
       " (71701, 3),\n",
       " (73473, 3),\n",
       " (16534, 3),\n",
       " (504, 3),\n",
       " (88702, 3),\n",
       " ...]"
      ]
     },
     "execution_count": 139,
     "metadata": {},
     "output_type": "execute_result"
    }
   ],
   "source": [
    "counter.most_common(len(counter))[70000:]"
   ]
  },
  {
   "cell_type": "markdown",
   "id": "e1d44586-3505-43a5-81e6-e750014260a6",
   "metadata": {
    "pycharm": {
     "name": "#%% md\n"
    }
   },
   "source": [
    "## Label count after"
   ]
  },
  {
   "cell_type": "code",
   "execution_count": 25,
   "id": "a730ca81-230c-4dda-ad91-f3442a245e9e",
   "metadata": {
    "tags": [],
    "pycharm": {
     "name": "#%%\n"
    }
   },
   "outputs": [
    {
     "data": {
      "text/plain": [
       "47"
      ]
     },
     "execution_count": 25,
     "metadata": {},
     "output_type": "execute_result"
    }
   ],
   "source": [
    "new_labels = [105377,\n",
    "105387,\n",
    "105378,\n",
    "96913,\n",
    "55499,\n",
    "105403,\n",
    "98593,\n",
    "115696,\n",
    "67675,\n",
    "105389,\n",
    "67676,\n",
    "98976,\n",
    "89489,\n",
    "116702,\n",
    "78714,\n",
    "109988,\n",
    "54829,\n",
    "13052,\n",
    "71088,\n",
    "78351,\n",
    "78738,\n",
    "73417,\n",
    "50966,\n",
    "83210,\n",
    "65178,\n",
    "50343,\n",
    "128774,\n",
    "89314,\n",
    "98672,\n",
    "91175,\n",
    "38397,\n",
    "129941,\n",
    "117434,\n",
    "98480,\n",
    "110681,\n",
    "128440,\n",
    "124458,\n",
    "45656,\n",
    "101414,\n",
    "126884,\n",
    "97009,\n",
    "110794,\n",
    "2357,\n",
    "52420,\n",
    "36096,\n",
    "64641,\n",
    "61484]\n",
    "len(new_labels)"
   ]
  },
  {
   "cell_type": "code",
   "execution_count": 141,
   "id": "675866f0-7bcc-4bd8-a92a-362ce871bb3d",
   "metadata": {
    "pycharm": {
     "name": "#%%\n"
    }
   },
   "outputs": [],
   "source": [
    "labels = []\n",
    "for sample in con: \n",
    "    temp = sample['target_ind']\n",
    "    \n",
    "    for lab in temp:\n",
    "        if lab in new_labels: \n",
    "            labels.append(lab)\n",
    "            \n"
   ]
  },
  {
   "cell_type": "code",
   "execution_count": 142,
   "id": "de8da659-bc52-49cb-9d48-4525d06a1e56",
   "metadata": {
    "pycharm": {
     "name": "#%%\n"
    }
   },
   "outputs": [
    {
     "data": {
      "text/plain": [
       "[(105377, 1553),\n",
       " (105387, 1515),\n",
       " (105378, 778),\n",
       " (96913, 556),\n",
       " (55499, 549),\n",
       " (105403, 532),\n",
       " (98593, 486),\n",
       " (115696, 456),\n",
       " (67675, 440),\n",
       " (105389, 368),\n",
       " (67676, 339),\n",
       " (98976, 146),\n",
       " (89489, 134),\n",
       " (116702, 107),\n",
       " (78714, 98),\n",
       " (109988, 94),\n",
       " (54829, 84),\n",
       " (13052, 79),\n",
       " (71088, 78),\n",
       " (78351, 73),\n",
       " (78738, 70),\n",
       " (73417, 45),\n",
       " (50966, 41),\n",
       " (83210, 35),\n",
       " (65178, 33),\n",
       " (50343, 32),\n",
       " (128774, 30),\n",
       " (89314, 28),\n",
       " (98672, 24),\n",
       " (91175, 24),\n",
       " (38397, 21),\n",
       " (129941, 19),\n",
       " (117434, 17),\n",
       " (98480, 17),\n",
       " (110681, 14),\n",
       " (128440, 14),\n",
       " (124458, 12),\n",
       " (45656, 11),\n",
       " (101414, 11),\n",
       " (126884, 9),\n",
       " (97009, 9),\n",
       " (110794, 9),\n",
       " (2357, 8),\n",
       " (52420, 7),\n",
       " (36096, 7),\n",
       " (64641, 7),\n",
       " (61484, 3)]"
      ]
     },
     "execution_count": 142,
     "metadata": {},
     "output_type": "execute_result"
    }
   ],
   "source": [
    "from collections import Counter\n",
    "\n",
    "counter = Counter(labels)\n",
    "counter.most_common()"
   ]
  },
  {
   "cell_type": "markdown",
   "id": "30388a3f-a920-44a8-9635-c71ff52d00d4",
   "metadata": {
    "pycharm": {
     "name": "#%% md\n"
    }
   },
   "source": [
    "## Initial amount of labels per text"
   ]
  },
  {
   "cell_type": "code",
   "execution_count": 94,
   "id": "fd904f46-3005-4975-9017-fcc22272acc8",
   "metadata": {
    "pycharm": {
     "name": "#%%\n"
    }
   },
   "outputs": [],
   "source": [
    "labels = []\n",
    "for sample in con: \n",
    "    labels.append(len(sample['target_ind']))"
   ]
  },
  {
   "cell_type": "code",
   "execution_count": 95,
   "id": "d824a623-10d3-4542-b540-589390e87f01",
   "metadata": {
    "pycharm": {
     "name": "#%%\n"
    }
   },
   "outputs": [],
   "source": [
    "counter_lpt = Counter(labels)"
   ]
  },
  {
   "cell_type": "code",
   "execution_count": 96,
   "id": "45d7dcd6-9e46-4959-88fd-3ad8063f5ea6",
   "metadata": {
    "pycharm": {
     "name": "#%%\n"
    }
   },
   "outputs": [
    {
     "data": {
      "text/plain": [
       "Counter({1: 109893, 2: 78471, 3: 51926, 6: 6631, 5: 15940, 4: 30237, 7: 1707})"
      ]
     },
     "execution_count": 96,
     "metadata": {},
     "output_type": "execute_result"
    }
   ],
   "source": [
    "counter_lpt"
   ]
  },
  {
   "cell_type": "code",
   "execution_count": 99,
   "id": "771e2cc9-9899-498b-90a4-60f8001709b0",
   "metadata": {
    "pycharm": {
     "name": "#%%\n"
    }
   },
   "outputs": [
    {
     "data": {
      "text/plain": [
       "dict_values([109893, 78471, 51926, 6631, 15940, 30237, 1707])"
      ]
     },
     "execution_count": 99,
     "metadata": {},
     "output_type": "execute_result"
    }
   ],
   "source": [
    " counter_lpt.values()"
   ]
  },
  {
   "cell_type": "code",
   "execution_count": 100,
   "id": "b9e1793c-4878-47e3-8b2c-3d693e491f20",
   "metadata": {
    "pycharm": {
     "name": "#%%\n"
    }
   },
   "outputs": [
    {
     "data": {
      "text/plain": [
       "<BarContainer object of 7 artists>"
      ]
     },
     "execution_count": 100,
     "metadata": {},
     "output_type": "execute_result"
    },
    {
     "data": {
      "image/png": "[encoded data removed]",
      "text/plain": [
       "<Figure size 432x288 with 1 Axes>"
      ]
     },
     "metadata": {
      "needs_background": "light"
     },
     "output_type": "display_data"
    }
   ],
   "source": [
    "plt.bar(range(1,8), counter_lpt.values())"
   ]
  },
  {
   "cell_type": "code",
   "execution_count": 101,
   "id": "7a7b6769-036d-4992-a234-bcc2ea2d5158",
   "metadata": {
    "pycharm": {
     "name": "#%%\n"
    }
   },
   "outputs": [
    {
     "data": {
      "text/plain": [
       "2.449782059327352"
      ]
     },
     "execution_count": 101,
     "metadata": {},
     "output_type": "execute_result"
    }
   ],
   "source": [
    "sum([i*count for i, count in zip(range(1, 8), counter_lpt.values())])/sum(counter_lpt.values())"
   ]
  },
  {
   "cell_type": "markdown",
   "id": "a255b752-5528-4e51-acfa-996389bbc207",
   "metadata": {
    "pycharm": {
     "name": "#%% md\n"
    }
   },
   "source": [
    "## Filtered Dataset"
   ]
  },
  {
   "cell_type": "code",
   "execution_count": 104,
   "id": "d480d914-9be0-4810-b490-a94e4b49d546",
   "metadata": {
    "pycharm": {
     "name": "#%%\n"
    }
   },
   "outputs": [],
   "source": [
    "labels = []\n",
    "texts = []\n",
    "for sample in con: \n",
    "    targets = sample['target_ind']\n",
    "    new_targets = []\n",
    "    for target in targets: \n",
    "        if target in new_labels: \n",
    "            new_targets.append(target)\n",
    "    if len(new_targets) != 0: \n",
    "        labels.append(new_targets)\n",
    "        texts.append(sample['content'])\n"
   ]
  },
  {
   "cell_type": "code",
   "execution_count": 108,
   "id": "89e0f319-fff5-4781-94d9-eda2fefae7d1",
   "metadata": {
    "pycharm": {
     "name": "#%%\n"
    }
   },
   "outputs": [],
   "source": [
    "import numpy as np\n",
    "y_true_train = [[label_dic[str(lab)]  for lab in label] for label in labels]\n",
    "\n",
    "y_true1_train = np.asarray([ np.asarray([1 if i in lab else 0 for i in range(len(label_dic.items()))]) for lab in y_true_train])\n"
   ]
  },
  {
   "cell_type": "markdown",
   "id": "ee5510d9-8663-4a72-9fff-f1781363b66b",
   "metadata": {
    "pycharm": {
     "name": "#%% md\n"
    }
   },
   "source": [
    "## Training fastText model"
   ]
  },
  {
   "cell_type": "code",
   "execution_count": 147,
   "id": "4df7fc3d-4b69-4844-a30f-be698b47db3c",
   "metadata": {
    "pycharm": {
     "name": "#%%\n"
    }
   },
   "outputs": [],
   "source": [
    "import fasttext\n",
    "\n",
    "with open('amazon.train', 'w', encoding='utf-8') as f: \n",
    "    for labels, text in zip(labels, texts): \n",
    "        new_text = []\n",
    "        for label in labels: \n",
    "            label = str(label)\n",
    "            line = '__label__' + label\n",
    "            new_text.append(line)\n",
    "        new_text.append(text)\n",
    "        text = ' '.join(new_text)\n",
    "        f.write(text + '\\n')"
   ]
  },
  {
   "cell_type": "code",
   "execution_count": 28,
   "id": "630b56f6-26ff-4080-85e9-3b79fcaebefa",
   "metadata": {
    "pycharm": {
     "name": "#%%\n"
    }
   },
   "outputs": [
    {
     "name": "stderr",
     "output_type": "stream",
     "text": [
      "Read 0M words\n",
      "Number of words:  32175\n",
      "Number of labels: 47\n",
      "Progress: 100.0% words/sec/thread:  101686 lr:  0.000000 avg.loss:  0.105047 ETA:   0h 0m 0s  3.1% words/sec/thread:   84408 lr:  0.484718 avg.loss:  1.342894 ETA:   0h 0m32s 23.7% words/sec/thread:   82577 lr:  0.381423 avg.loss:  0.294062 ETA:   0h 0m25s 27.0% words/sec/thread:   82429 lr:  0.364901 avg.loss:  0.263117 ETA:   0h 0m24s 30.3% words/sec/thread:   82447 lr:  0.348384 avg.loss:  0.238235 ETA:   0h 0m23s 60.5% words/sec/thread:   83524 lr:  0.197740 avg.loss:  0.130980 ETA:   0h 0m13s 98.3% words/sec/thread:  101112 lr:  0.008259 avg.loss:  0.105702 ETA:   0h 0m 0s\n"
     ]
    }
   ],
   "source": [
    "model = fasttext.train_supervised(input=\"amazon.train\", lr=0.5, epoch=200, wordNgrams=2, bucket=200000, dim=150, loss='ova')"
   ]
  },
  {
   "cell_type": "code",
   "execution_count": 105,
   "id": "9a162fa3-4be5-4c10-bcd2-b7fd782185e5",
   "metadata": {
    "pycharm": {
     "name": "#%%\n"
    }
   },
   "outputs": [],
   "source": [
    "import json \n",
    "\n",
    "f = open('tst.json', 'r', encoding='utf-8')\n",
    "t = f.read().strip()\n",
    "con = json.loads(r''+t.strip().replace('}{','},{').replace('}\\n{','},{'))\n",
    "f.close()"
   ]
  },
  {
   "cell_type": "code",
   "execution_count": 106,
   "id": "c717c5f1-71a7-4db5-9ac5-af00c1c990d0",
   "metadata": {
    "pycharm": {
     "name": "#%%\n"
    }
   },
   "outputs": [],
   "source": [
    "test_labels = []\n",
    "test_texts = []\n",
    "for sample in con: \n",
    "    targets = sample['target_ind']\n",
    "    new_targets = []\n",
    "    for target in targets: \n",
    "        if target in new_labels: \n",
    "            new_targets.append(target)\n",
    "    if len(new_targets) != 0: \n",
    "        test_labels.append(new_targets)\n",
    "        test_texts.append(sample['content'])\n"
   ]
  },
  {
   "cell_type": "code",
   "execution_count": 27,
   "id": "a4e30dbf-e5ad-4745-ba4e-d9e821a832e0",
   "metadata": {
    "pycharm": {
     "name": "#%%\n"
    }
   },
   "outputs": [],
   "source": [
    "with open('amazon.test', 'w', encoding='utf-8') as f: \n",
    "    for labels, text in zip(labels, texts): \n",
    "        new_text = []\n",
    "        for label in labels: \n",
    "            label = str(label)\n",
    "            line = '__label__' + label\n",
    "            new_text.append(line)\n",
    "        new_text.append(text)\n",
    "        text = ' '.join(new_text)\n",
    "        f.write(text + '\\n')"
   ]
  },
  {
   "cell_type": "code",
   "execution_count": 29,
   "id": "5a92a8da-7da3-4434-bf4b-65f86a1bad91",
   "metadata": {
    "pycharm": {
     "name": "#%%\n"
    }
   },
   "outputs": [
    {
     "data": {
      "text/plain": [
       "(2242, 0.03638468692466833, 1.0)"
      ]
     },
     "execution_count": 29,
     "metadata": {},
     "output_type": "execute_result"
    }
   ],
   "source": [
    "model.test(\"amazon.test\", k=-1)"
   ]
  },
  {
   "cell_type": "code",
   "execution_count": 30,
   "id": "2d2e3350-a279-41cb-8b99-2d3d5008366c",
   "metadata": {
    "pycharm": {
     "name": "#%%\n"
    }
   },
   "outputs": [],
   "source": [
    "model.save_model(\"amazon1.bin\")"
   ]
  },
  {
   "cell_type": "code",
   "execution_count": 41,
   "id": "3355f7ee-e25f-4338-90e8-5e31e879904c",
   "metadata": {
    "pycharm": {
     "name": "#%%\n"
    }
   },
   "outputs": [],
   "source": [
    "preds = []\n",
    "for label, tex in zip(labels, texts):\n",
    "    pred = model.predict(tex,  k=-1, threshold=0.5)\n",
    "    preds.append(pred[0])"
   ]
  },
  {
   "cell_type": "code",
   "execution_count": 76,
   "id": "ef04f0fd-c78d-4611-a93e-7f4ca45d6af4",
   "metadata": {
    "pycharm": {
     "name": "#%%\n"
    }
   },
   "outputs": [
    {
     "data": {
      "text/plain": [
       "[[105389, 105403],\n",
       " [67675],\n",
       " [105377, 105387],\n",
       " [116702],\n",
       " [67675],\n",
       " [55499, 96913, 105377],\n",
       " [98976],\n",
       " [105377, 105378, 105387],\n",
       " [105403],\n",
       " [89489]]"
      ]
     },
     "execution_count": 76,
     "metadata": {},
     "output_type": "execute_result"
    }
   ],
   "source": [
    "labels[:10]"
   ]
  },
  {
   "cell_type": "code",
   "execution_count": 77,
   "id": "e01f15e9-bbce-42c5-af0b-dfa38e104681",
   "metadata": {
    "tags": [],
    "pycharm": {
     "name": "#%%\n"
    }
   },
   "outputs": [
    {
     "data": {
      "text/plain": [
       "[('__label__105389', '__label__105403'),\n",
       " ('__label__67675',),\n",
       " ('__label__105387', '__label__105377'),\n",
       " ('__label__116702',),\n",
       " ('__label__67675',),\n",
       " ('__label__55499', '__label__96913', '__label__105377'),\n",
       " ('__label__98976',),\n",
       " ('__label__105378', '__label__105387', '__label__105377'),\n",
       " (),\n",
       " ('__label__89489',)]"
      ]
     },
     "execution_count": 77,
     "metadata": {},
     "output_type": "execute_result"
    }
   ],
   "source": [
    "preds[:10]"
   ]
  },
  {
   "cell_type": "code",
   "execution_count": 84,
   "id": "ced98604-3c1c-4863-8d1b-7cbe8164901e",
   "metadata": {
    "pycharm": {
     "name": "#%%\n"
    }
   },
   "outputs": [],
   "source": [
    "label_dic = {}\n",
    "i = 0\n",
    "for label in labels: \n",
    "    for lab in label: \n",
    "        if str(lab) not in label_dic.keys(): \n",
    "            label_dic[str(lab)] = i\n",
    "            i += 1\n"
   ]
  },
  {
   "cell_type": "code",
   "execution_count": 85,
   "id": "1363cc8f-6c67-4fea-8981-ded1bfb9ec5a",
   "metadata": {
    "pycharm": {
     "name": "#%%\n"
    }
   },
   "outputs": [],
   "source": [
    "for label in preds: \n",
    "    for lab in label: \n",
    "        lab = lab.replace('__label__', '') \n",
    "        if lab not in label_dic.keys(): \n",
    "            label_dic[lab] = i\n",
    "            i+=1"
   ]
  },
  {
   "cell_type": "code",
   "execution_count": 87,
   "id": "8693e9a0-592b-4e43-9f54-b719f2e28d99",
   "metadata": {
    "pycharm": {
     "name": "#%%\n"
    }
   },
   "outputs": [],
   "source": [
    "import numpy as np\n",
    "y_true = [[label_dic[str(lab)]  for lab in label] for label in labels]\n",
    "y_pred = [[label_dic[lab.replace('__label__', '')] for lab in label] for label in preds]\n",
    "\n",
    "y_true1 = np.asarray([ np.asarray([1 if i in lab else 0 for i in range(len(label_dic.items()))]) for lab in y_true])\n",
    "y_pred1 = np.asarray([np.asarray([1 if i in lab else 0 for i in range(len(label_dic.items())) ]) for lab in y_pred])"
   ]
  },
  {
   "cell_type": "code",
   "execution_count": 89,
   "id": "afd5b078-ab9c-4ef4-af5f-007191828813",
   "metadata": {
    "tags": [],
    "pycharm": {
     "name": "#%%\n"
    }
   },
   "outputs": [
    {
     "name": "stderr",
     "output_type": "stream",
     "text": [
      "/home/ckittask/envs/py39/lib/python3.9/site-packages/sklearn/metrics/_classification.py:1308: UndefinedMetricWarning: Precision and F-score are ill-defined and being set to 0.0 in labels with no predicted samples. Use `zero_division` parameter to control this behavior.\n",
      "  _warn_prf(average, modifier, msg_start, len(result))\n",
      "/home/ckittask/envs/py39/lib/python3.9/site-packages/sklearn/metrics/_classification.py:1308: UndefinedMetricWarning: Precision and F-score are ill-defined and being set to 0.0 in samples with no predicted labels. Use `zero_division` parameter to control this behavior.\n",
      "  _warn_prf(average, modifier, msg_start, len(result))\n"
     ]
    },
    {
     "data": {
      "text/plain": [
       "'              precision    recall  f1-score   support\\n\\n           0       1.00      1.00      1.00       152\\n           1       1.00      1.00      1.00       229\\n           2       1.00      1.00      1.00       201\\n           3       1.00      1.00      1.00       705\\n           4       1.00      1.00      1.00       660\\n           5       0.94      0.55      0.70        29\\n           6       1.00      1.00      1.00       251\\n           7       1.00      0.98      0.99       259\\n           8       1.00      0.97      0.98        67\\n           9       1.00      1.00      1.00       355\\n          10       1.00      0.94      0.97        49\\n          11       0.78      0.39      0.52        18\\n          12       0.83      0.38      0.53        13\\n          13       1.00      0.17      0.29         6\\n          14       1.00      0.69      0.82        29\\n          15       1.00      0.44      0.62        18\\n          16       1.00      1.00      1.00       132\\n          17       1.00      0.63      0.78        30\\n          18       0.97      0.86      0.91        35\\n          19       1.00      0.99      1.00       204\\n          20       1.00      0.99      0.99       183\\n          21       0.96      0.93      0.95        28\\n          22       0.92      0.61      0.73        38\\n          23       0.53      0.47      0.50        17\\n          24       1.00      0.47      0.64        15\\n          25       1.00      0.50      0.67         8\\n          26       1.00      0.27      0.43        11\\n          27       1.00      0.38      0.55         8\\n          28       0.50      0.50      0.50         2\\n          29       0.83      0.71      0.77         7\\n          30       0.00      0.00      0.00         1\\n          31       1.00      0.75      0.86         4\\n          32       0.00      0.00      0.00         4\\n          33       1.00      1.00      1.00         3\\n          34       1.00      0.55      0.71        11\\n          35       1.00      0.40      0.57        10\\n          36       1.00      0.25      0.40         4\\n          37       0.83      0.62      0.71         8\\n          38       0.00      0.00      0.00        10\\n          39       0.00      0.00      0.00         4\\n          40       1.00      0.14      0.25         7\\n          41       0.00      0.00      0.00         1\\n          42       0.00      0.00      0.00         1\\n          43       0.00      0.00      0.00         4\\n          44       0.00      0.00      0.00         1\\n          45       0.00      0.00      0.00         1\\n          46       0.00      0.00      0.00         1\\n\\n   micro avg       0.99      0.95      0.97      3834\\n   macro avg       0.75      0.54      0.60      3834\\nweighted avg       0.99      0.95      0.96      3834\\n samples avg       0.92      0.92      0.92      3834\\n'"
      ]
     },
     "execution_count": 89,
     "metadata": {},
     "output_type": "execute_result"
    }
   ],
   "source": [
    "from sklearn.metrics import classification_report\n",
    "classification_report(\n",
    "    y_true1,\n",
    "    y_pred1,\n",
    "    output_dict=False,\n",
    "    target_names=[ str(i) for i in range(len(label_dic.keys()))]\n",
    ")"
   ]
  },
  {
   "cell_type": "markdown",
   "id": "0e11276b-4273-436d-b466-2d4394290d2e",
   "metadata": {
    "pycharm": {
     "name": "#%% md\n"
    }
   },
   "source": [
    "\n",
    "<pre>\n",
    "       precision    recall  f1-score   support\n",
    "\n",
    "0       1.00      1.00      1.00       152\n",
    "1       1.00      1.00      1.00       229\n",
    "2       1.00      1.00      1.00       201\n",
    "3       1.00      1.00      1.00       705\n",
    "4       1.00      1.00      1.00       660\n",
    "5       0.94      0.55      0.70        29\n",
    "6       1.00      1.00      1.00       251\n",
    "7       1.00      0.98      0.99       259\n",
    "8       1.00      0.97      0.98        67\n",
    "9       1.00      1.00      1.00       355\n",
    "10       1.00      0.94      0.97        49\n",
    "11       0.78      0.39      0.52        18\n",
    "12       0.83      0.38      0.53        13\n",
    "13       1.00      0.17      0.29         6\n",
    "14       1.00      0.69      0.82        29\n",
    "15       1.00      0.44      0.62        18\n",
    "16       1.00      1.00      1.00       132\n",
    "17       1.00      0.63      0.78        30\n",
    "18       0.97      0.86      0.91        35\n",
    "19       1.00      0.99      1.00       204\n",
    "20       1.00      0.99      0.99       183\n",
    "21       0.96      0.93      0.95        28\n",
    "22       0.92      0.61      0.73        38\n",
    "23       0.53      0.47      0.50        17\n",
    "24       1.00      0.47      0.64        15\n",
    "25       1.00      0.50      0.67         8\n",
    "26       1.00      0.27      0.43        11\n",
    "27       1.00      0.38      0.55         8\n",
    "28       0.50      0.50      0.50         2\n",
    "29       0.83      0.71      0.77         7\n",
    "30       0.00      0.00      0.00         1\n",
    "31       1.00      0.75      0.86         4\n",
    "32       0.00      0.00      0.00         4\n",
    "33       1.00      1.00      1.00         3\n",
    "34       1.00      0.55      0.71        11\n",
    "35       1.00      0.40      0.57        10\n",
    "36       1.00      0.25      0.40         4\n",
    "37       0.83      0.62      0.71         8\n",
    "38       0.00      0.00      0.00        10\n",
    "39       0.00      0.00      0.00         4\n",
    "40       1.00      0.14      0.25         7\n",
    "41       0.00      0.00      0.00         1\n",
    "42       0.00      0.00      0.00         1\n",
    "43       0.00      0.00      0.00         4\n",
    "44       0.00      0.00      0.00         1\n",
    "45       0.00      0.00      0.00         1\n",
    "46       0.00      0.00      0.00         1\n",
    "\n",
    "micro avg       0.99      0.95      0.97      3834\n",
    "macro avg       0.75      0.54      0.60      3834\n",
    "weighted avg       0.99      0.95      0.96      3834\n",
    "samples avg       0.92      0.92      0.92      3834\n",
    "</pre>"
   ]
  },
  {
   "cell_type": "markdown",
   "id": "796f7c83-df02-4574-bdae-5b17c2af6cce",
   "metadata": {
    "pycharm": {
     "name": "#%% md\n"
    }
   },
   "source": [
    "## Sklearn models "
   ]
  },
  {
   "cell_type": "code",
   "execution_count": 91,
   "id": "7f2029a1-09ce-4573-a17b-10485fe2b1fa",
   "metadata": {
    "pycharm": {
     "name": "#%%\n"
    }
   },
   "outputs": [],
   "source": [
    "from matplotlib import pyplot as plt\n",
    "from sklearn.base import BaseEstimator\n",
    "from sklearn.feature_extraction.text import TfidfVectorizer\n",
    "from sklearn.multioutput import MultiOutputClassifier\n",
    "from sklearn.linear_model import LogisticRegression, SGDClassifier\n",
    "from sklearn.neighbors import KNeighborsClassifier\n",
    "from sklearn.ensemble import RandomForestClassifier\n",
    "from sklearn.svm import LinearSVC\n",
    "from sklearn.pipeline import Pipeline\n",
    "from sklearn.model_selection import ParameterGrid\n",
    "\n",
    "from tqdm import tqdm"
   ]
  },
  {
   "cell_type": "code",
   "execution_count": 97,
   "id": "e89640b3-6a26-4170-8e88-198c513d8dbd",
   "metadata": {
    "pycharm": {
     "name": "#%%\n"
    }
   },
   "outputs": [],
   "source": [
    "import pandas as pd"
   ]
  },
  {
   "cell_type": "code",
   "execution_count": 92,
   "id": "1bd62382-b079-419e-8620-5d3feb52201d",
   "metadata": {
    "pycharm": {
     "name": "#%%\n"
    }
   },
   "outputs": [],
   "source": [
    "class ClfSwitcher(BaseEstimator):\n",
    "    \n",
    "    def __init__(self, estimator=RandomForestClassifier()):\n",
    "        \"\"\"\n",
    "        A Custom BaseEstimator that can switch between classifiers.\n",
    "        \n",
    "        Parameters\n",
    "        ----------\n",
    "        estimator: sklearn object, the classifier\n",
    "        \"\"\"\n",
    "        self.estimator = estimator\n",
    "    \n",
    "    def fit(self, X, y):\n",
    "        self.estimator.fit(X, y)\n",
    "        return self\n",
    "    \n",
    "    def predict(self, X):\n",
    "        return self.estimator.predict(X)\n",
    "    \n",
    "    def predict_proba(self, X):\n",
    "        return self.estimator.predict_proba(X)\n",
    "    \n",
    "    def score(self, X, y):\n",
    "        return self.estimator.score(X, y)"
   ]
  },
  {
   "cell_type": "code",
   "execution_count": 93,
   "id": "b40b6286-48ae-4307-9212-b7b871965946",
   "metadata": {
    "pycharm": {
     "name": "#%%\n"
    }
   },
   "outputs": [],
   "source": [
    "pipeline = Pipeline([\n",
    "    ('tfidf', TfidfVectorizer()),\n",
    "    ('clf', ClfSwitcher())\n",
    "])"
   ]
  },
  {
   "cell_type": "code",
   "execution_count": 96,
   "id": "d151a343-6bb4-48d8-a517-56d742267584",
   "metadata": {
    "pycharm": {
     "name": "#%%\n"
    }
   },
   "outputs": [],
   "source": [
    "RS = 47\n",
    "grid = ParameterGrid({\n",
    "    'clf__estimator': [\n",
    "        MultiOutputClassifier(LogisticRegression(class_weight='balanced', random_state=RS), n_jobs=-1),\n",
    "        MultiOutputClassifier(SGDClassifier(class_weight='balanced', random_state=RS, loss='modified_huber'), n_jobs=-1),\n",
    "        MultiOutputClassifier(LinearSVC(class_weight='balanced', random_state=RS), n_jobs=-1),\n",
    "        KNeighborsClassifier(n_jobs=-1),\n",
    "        RandomForestClassifier(class_weight='balanced', random_state=RS, n_jobs=-1)\n",
    "    ],\n",
    "    'tfidf__ngram_range': [(1,1), (1,2)]\n",
    "})\n",
    "\n",
    "models = [\n",
    "    'logreg1', 'logreg2', 'sgd1', 'sgd2', 'svm1', 'svm2', 'knn1', 'knn2', 'rf1', 'rf2'\n",
    "]"
   ]
  },
  {
   "cell_type": "code",
   "execution_count": 111,
   "id": "0525f298-6591-4f93-8399-e3500f490403",
   "metadata": {
    "pycharm": {
     "name": "#%%\n"
    }
   },
   "outputs": [
    {
     "name": "stderr",
     "output_type": "stream",
     "text": [
      " 10%|█         | 1/10 [00:02<00:26,  2.92s/it]/home/ckittask/envs/py39/lib/python3.9/site-packages/sklearn/metrics/_classification.py:1308: UndefinedMetricWarning: Precision and F-score are ill-defined and being set to 0.0 in labels with no predicted samples. Use `zero_division` parameter to control this behavior.\n",
      "  _warn_prf(average, modifier, msg_start, len(result))\n",
      " 40%|████      | 4/10 [00:20<00:30,  5.09s/it]/home/ckittask/envs/py39/lib/python3.9/site-packages/sklearn/svm/_base.py:1206: ConvergenceWarning: Liblinear failed to converge, increase the number of iterations.\n",
      "  warnings.warn(\n",
      "/home/ckittask/envs/py39/lib/python3.9/site-packages/sklearn/svm/_base.py:1206: ConvergenceWarning: Liblinear failed to converge, increase the number of iterations.\n",
      "  warnings.warn(\n",
      "/home/ckittask/envs/py39/lib/python3.9/site-packages/sklearn/svm/_base.py:1206: ConvergenceWarning: Liblinear failed to converge, increase the number of iterations.\n",
      "  warnings.warn(\n",
      "/home/ckittask/envs/py39/lib/python3.9/site-packages/sklearn/svm/_base.py:1206: ConvergenceWarning: Liblinear failed to converge, increase the number of iterations.\n",
      "  warnings.warn(\n",
      "/home/ckittask/envs/py39/lib/python3.9/site-packages/sklearn/svm/_base.py:1206: ConvergenceWarning: Liblinear failed to converge, increase the number of iterations.\n",
      "  warnings.warn(\n",
      "/home/ckittask/envs/py39/lib/python3.9/site-packages/sklearn/svm/_base.py:1206: ConvergenceWarning: Liblinear failed to converge, increase the number of iterations.\n",
      "  warnings.warn(\n",
      "/home/ckittask/envs/py39/lib/python3.9/site-packages/sklearn/metrics/_classification.py:1308: UndefinedMetricWarning: Precision and F-score are ill-defined and being set to 0.0 in labels with no predicted samples. Use `zero_division` parameter to control this behavior.\n",
      "  _warn_prf(average, modifier, msg_start, len(result))\n",
      " 50%|█████     | 5/10 [00:23<00:22,  4.59s/it]/home/ckittask/envs/py39/lib/python3.9/site-packages/sklearn/svm/_base.py:1206: ConvergenceWarning: Liblinear failed to converge, increase the number of iterations.\n",
      "  warnings.warn(\n",
      "/home/ckittask/envs/py39/lib/python3.9/site-packages/sklearn/svm/_base.py:1206: ConvergenceWarning: Liblinear failed to converge, increase the number of iterations.\n",
      "  warnings.warn(\n",
      "/home/ckittask/envs/py39/lib/python3.9/site-packages/sklearn/svm/_base.py:1206: ConvergenceWarning: Liblinear failed to converge, increase the number of iterations.\n",
      "  warnings.warn(\n",
      "/home/ckittask/envs/py39/lib/python3.9/site-packages/sklearn/svm/_base.py:1206: ConvergenceWarning: Liblinear failed to converge, increase the number of iterations.\n",
      "  warnings.warn(\n",
      "/home/ckittask/envs/py39/lib/python3.9/site-packages/sklearn/svm/_base.py:1206: ConvergenceWarning: Liblinear failed to converge, increase the number of iterations.\n",
      "  warnings.warn(\n",
      "/home/ckittask/envs/py39/lib/python3.9/site-packages/sklearn/svm/_base.py:1206: ConvergenceWarning: Liblinear failed to converge, increase the number of iterations.\n",
      "  warnings.warn(\n",
      "/home/ckittask/envs/py39/lib/python3.9/site-packages/sklearn/svm/_base.py:1206: ConvergenceWarning: Liblinear failed to converge, increase the number of iterations.\n",
      "  warnings.warn(\n",
      "/home/ckittask/envs/py39/lib/python3.9/site-packages/sklearn/metrics/_classification.py:1308: UndefinedMetricWarning: Precision and F-score are ill-defined and being set to 0.0 in labels with no predicted samples. Use `zero_division` parameter to control this behavior.\n",
      "  _warn_prf(average, modifier, msg_start, len(result))\n",
      " 60%|██████    | 6/10 [00:32<00:24,  6.10s/it]/home/ckittask/envs/py39/lib/python3.9/site-packages/sklearn/metrics/_classification.py:1308: UndefinedMetricWarning: Precision and F-score are ill-defined and being set to 0.0 in labels with no predicted samples. Use `zero_division` parameter to control this behavior.\n",
      "  _warn_prf(average, modifier, msg_start, len(result))\n",
      " 70%|███████   | 7/10 [00:38<00:17,  5.87s/it]/home/ckittask/envs/py39/lib/python3.9/site-packages/sklearn/metrics/_classification.py:1308: UndefinedMetricWarning: Precision and F-score are ill-defined and being set to 0.0 in labels with no predicted samples. Use `zero_division` parameter to control this behavior.\n",
      "  _warn_prf(average, modifier, msg_start, len(result))\n",
      " 80%|████████  | 8/10 [00:44<00:12,  6.11s/it]/home/ckittask/envs/py39/lib/python3.9/site-packages/sklearn/metrics/_classification.py:1308: UndefinedMetricWarning: Precision and F-score are ill-defined and being set to 0.0 in labels with no predicted samples. Use `zero_division` parameter to control this behavior.\n",
      "  _warn_prf(average, modifier, msg_start, len(result))\n",
      " 90%|█████████ | 9/10 [00:49<00:05,  5.76s/it]/home/ckittask/envs/py39/lib/python3.9/site-packages/sklearn/metrics/_classification.py:1308: UndefinedMetricWarning: Precision and F-score are ill-defined and being set to 0.0 in labels with no predicted samples. Use `zero_division` parameter to control this behavior.\n",
      "  _warn_prf(average, modifier, msg_start, len(result))\n",
      "100%|██████████| 10/10 [00:56<00:00,  5.69s/it]\n"
     ]
    },
    {
     "data": {
      "text/html": [
       "<div>\n",
       "<style scoped>\n",
       "    .dataframe tbody tr th:only-of-type {\n",
       "        vertical-align: middle;\n",
       "    }\n",
       "\n",
       "    .dataframe tbody tr th {\n",
       "        vertical-align: top;\n",
       "    }\n",
       "\n",
       "    .dataframe thead th {\n",
       "        text-align: right;\n",
       "    }\n",
       "</style>\n",
       "<table border=\"1\" class=\"dataframe\">\n",
       "  <thead>\n",
       "    <tr style=\"text-align: right;\">\n",
       "      <th></th>\n",
       "      <th>precision</th>\n",
       "      <th>recall</th>\n",
       "      <th>f1</th>\n",
       "    </tr>\n",
       "  </thead>\n",
       "  <tbody>\n",
       "    <tr>\n",
       "      <th>logreg1</th>\n",
       "      <td>0.963137</td>\n",
       "      <td>0.982003</td>\n",
       "      <td>0.968318</td>\n",
       "    </tr>\n",
       "    <tr>\n",
       "      <th>logreg2</th>\n",
       "      <td>0.978442</td>\n",
       "      <td>0.978352</td>\n",
       "      <td>0.975738</td>\n",
       "    </tr>\n",
       "    <tr>\n",
       "      <th>sgd1</th>\n",
       "      <td>0.962082</td>\n",
       "      <td>0.986698</td>\n",
       "      <td>0.967627</td>\n",
       "    </tr>\n",
       "    <tr>\n",
       "      <th>sgd2</th>\n",
       "      <td>0.968921</td>\n",
       "      <td>0.986698</td>\n",
       "      <td>0.973055</td>\n",
       "    </tr>\n",
       "    <tr>\n",
       "      <th>svm1</th>\n",
       "      <td>0.994165</td>\n",
       "      <td>0.976526</td>\n",
       "      <td>0.982834</td>\n",
       "    </tr>\n",
       "    <tr>\n",
       "      <th>svm2</th>\n",
       "      <td>0.993954</td>\n",
       "      <td>0.971570</td>\n",
       "      <td>0.979584</td>\n",
       "    </tr>\n",
       "    <tr>\n",
       "      <th>knn1</th>\n",
       "      <td>0.984737</td>\n",
       "      <td>0.973657</td>\n",
       "      <td>0.975805</td>\n",
       "    </tr>\n",
       "    <tr>\n",
       "      <th>knn2</th>\n",
       "      <td>0.982073</td>\n",
       "      <td>0.970788</td>\n",
       "      <td>0.972565</td>\n",
       "    </tr>\n",
       "    <tr>\n",
       "      <th>rf1</th>\n",
       "      <td>0.983358</td>\n",
       "      <td>0.932447</td>\n",
       "      <td>0.945215</td>\n",
       "    </tr>\n",
       "    <tr>\n",
       "      <th>rf2</th>\n",
       "      <td>0.980349</td>\n",
       "      <td>0.930360</td>\n",
       "      <td>0.943045</td>\n",
       "    </tr>\n",
       "  </tbody>\n",
       "</table>\n",
       "</div>"
      ],
      "text/plain": [
       "         precision    recall        f1\n",
       "logreg1   0.963137  0.982003  0.968318\n",
       "logreg2   0.978442  0.978352  0.975738\n",
       "sgd1      0.962082  0.986698  0.967627\n",
       "sgd2      0.968921  0.986698  0.973055\n",
       "svm1      0.994165  0.976526  0.982834\n",
       "svm2      0.993954  0.971570  0.979584\n",
       "knn1      0.984737  0.973657  0.975805\n",
       "knn2      0.982073  0.970788  0.972565\n",
       "rf1       0.983358  0.932447  0.945215\n",
       "rf2       0.980349  0.930360  0.943045"
      ]
     },
     "execution_count": 111,
     "metadata": {},
     "output_type": "execute_result"
    }
   ],
   "source": [
    "from sklearn.metrics import precision_recall_fscore_support\n",
    "scores = pd.DataFrame()\n",
    "def score(y_true, y_pred, index):\n",
    "    \"\"\"Calculate precision, recall, and f1 score\"\"\"\n",
    "    \n",
    "    metrics = precision_recall_fscore_support(y_true, y_pred, average='weighted')\n",
    "    performance = {'precision': metrics[0], 'recall': metrics[1], 'f1': metrics[2]}\n",
    "    return pd.DataFrame(performance, index=[index])\n",
    "for model, params in tqdm(zip(models, grid), total=len(models)):\n",
    "    pipeline.set_params(**params)\n",
    "    pipeline.fit(texts, y_true1_train)\n",
    "    y_pred = pipeline.predict(test_texts)\n",
    "    machine_learning = score(y_true1, y_pred, model)\n",
    "    scores = pd.concat([scores, machine_learning])\n",
    "    \n",
    "scores"
   ]
  }
 ],
 "metadata": {
  "kernelspec": {
   "display_name": "py39",
   "language": "python",
   "name": "py39"
  },
  "language_info": {
   "codemirror_mode": {
    "name": "ipython",
    "version": 3
   },
   "file_extension": ".py",
   "mimetype": "text/x-python",
   "name": "python",
   "nbconvert_exporter": "python",
   "pygments_lexer": "ipython3",
   "version": "3.9.7"
  }
 },
 "nbformat": 4,
 "nbformat_minor": 5
}