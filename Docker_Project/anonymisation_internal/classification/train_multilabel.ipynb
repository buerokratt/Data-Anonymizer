{
 "cells": [
  {
   "cell_type": "markdown",
   "id": "b4ed6625-5c52-49e4-ab6d-f8187e247a1d",
   "metadata": {
    "tags": []
   },
   "source": [
    "## Train fastText\n",
    "\n",
    "1. Install fasttext\n",
    "2. Read in texts and labels to separate lists\n",
    "3. Create train, test file for fasttext\n",
    "4. Train fasttext model\n",
    "5. Save the model \n",
    "6. Evaluate the model"
   ]
  },
  {
   "cell_type": "code",
   "execution_count": null,
   "id": "b75c8048-351f-4e0e-b76e-e24e90160a49",
   "metadata": {},
   "outputs": [],
   "source": [
    "import fasttext\n",
    "\n",
    "train_file = 'train.txt'\n",
    "test_file = 'test.txt'\n",
    "\n",
    "labels,  texts = [], []\n",
    "with open(train_file, 'r', encoding='utf-8') as f: \n",
    "    for line in f: \n",
    "        line = line.strip().split('\\t')\n",
    "        labels.append(line[0].split())\n",
    "        texts.append(line[1])\n",
    "\n",
    "with open('fasttext.train', 'w', encoding='utf-8') as f: \n",
    "    for labels, text in zip(labels, texts): \n",
    "        new_text = []\n",
    "        for label in labels: \n",
    "            label = str(label)\n",
    "            line = '__label__' + label\n",
    "            new_text.append(line)\n",
    "        new_text.append(text)\n",
    "        text = ' '.join(new_text)\n",
    "        f.write(text + '\\n')\n",
    "\n",
    "testlabels,  testtexts = [], []\n",
    "with open(test_file, 'r', encoding='utf-8') as f: \n",
    "    for line in f: \n",
    "        line = line.strip().split('\\t')\n",
    "        testlabels.append(line[0].split())\n",
    "        testtexts.append(line[1])\n",
    "\n",
    "with open('fasttext.test', 'w', encoding='utf-8') as f: \n",
    "    for labels, text in zip(testlabels, testtexts): \n",
    "        new_text = []\n",
    "        for label in labels: \n",
    "            label = str(label)\n",
    "            line = '__label__' + label\n",
    "            new_text.append(line)\n",
    "        new_text.append(text)\n",
    "        text = ' '.join(new_text)\n",
    "        f.write(text + '\\n')"
   ]
  },
  {
   "cell_type": "code",
   "execution_count": null,
   "id": "6ef7fde4-c10c-4a41-ab78-2df74590ade8",
   "metadata": {},
   "outputs": [],
   "source": [
    "model = fasttext.train_supervised(input=\"fasttext.train\", lr=0.5, epoch=200, wordNgrams=2, bucket=200000, dim=150, loss='ova')"
   ]
  },
  {
   "cell_type": "code",
   "execution_count": null,
   "id": "87ac2e3a-82d9-4fe8-8358-750d0ec1be8a",
   "metadata": {},
   "outputs": [],
   "source": [
    "model.save_model(\"fasttext_model.bin\")"
   ]
  },
  {
   "cell_type": "code",
   "execution_count": null,
   "id": "082f88da-5f62-4685-b327-517388b64028",
   "metadata": {},
   "outputs": [],
   "source": [
    "preds = []\n",
    "for label, text in zip(testlabels, testtexts):\n",
    "    pred = model.predict(text,  k=-1, threshold=0.5)\n",
    "    preds.append(pred[0])"
   ]
  },
  {
   "cell_type": "code",
   "execution_count": null,
   "id": "8581ea39-933e-468f-a679-a495758ec605",
   "metadata": {},
   "outputs": [],
   "source": [
    "label_dic = {}\n",
    "i = 0\n",
    "for label in labels: \n",
    "    for lab in label: \n",
    "        if str(lab) not in label_dic.keys(): \n",
    "            label_dic[str(lab)] = i\n",
    "            i += 1\n",
    "for label in preds: \n",
    "    for lab in label: \n",
    "        lab = lab.replace('__label__', '') \n",
    "        if lab not in label_dic.keys(): \n",
    "            label_dic[lab] = i\n",
    "            i+=1"
   ]
  },
  {
   "cell_type": "code",
   "execution_count": null,
   "id": "bb1c1db1-03ae-45d8-9932-e405c7f717ed",
   "metadata": {},
   "outputs": [],
   "source": [
    "import numpy as np\n",
    "y_true = [[label_dic[str(lab)]  for lab in label] for label in labels]\n",
    "y_pred = [[label_dic[lab.replace('__label__', '')] for lab in label] for label in preds]\n",
    "\n",
    "y_true1 = np.asarray([ np.asarray([1 if i in lab else 0 for i in range(len(label_dic.items()))]) for lab in y_true])\n",
    "y_pred1 = np.asarray([np.asarray([1 if i in lab else 0 for i in range(len(label_dic.items())) ]) for lab in y_pred])"
   ]
  },
  {
   "cell_type": "code",
   "execution_count": null,
   "id": "21fefe67-7b52-4ec8-ab36-1791787ba44a",
   "metadata": {},
   "outputs": [],
   "source": [
    "from sklearn.metrics import classification_report\n",
    "classification_report(\n",
    "    y_true1,\n",
    "    y_pred1,\n",
    "    output_dict=False,\n",
    "    target_names=[ str(i) for i in range(len(label_dic.keys()))]\n",
    ")"
   ]
  },
  {
   "cell_type": "markdown",
   "id": "313eb040-cb9c-44ee-ba8c-82f85f69b33e",
   "metadata": {},
   "source": [
    "## Train sklearn models"
   ]
  },
  {
   "cell_type": "code",
   "execution_count": null,
   "id": "5f642428-df72-4603-b0df-75bad5006bf0",
   "metadata": {},
   "outputs": [],
   "source": [
    "from matplotlib import pyplot as plt\n",
    "from sklearn.base import BaseEstimator\n",
    "from sklearn.feature_extraction.text import TfidfVectorizer\n",
    "from sklearn.multioutput import MultiOutputClassifier\n",
    "from sklearn.linear_model import LogisticRegression, SGDClassifier\n",
    "from sklearn.neighbors import KNeighborsClassifier\n",
    "from sklearn.ensemble import RandomForestClassifier\n",
    "from sklearn.svm import LinearSVC\n",
    "from sklearn.pipeline import Pipeline\n",
    "from sklearn.model_selection import ParameterGrid\n",
    "import pandas as pd\n",
    "from tqdm import tqdm"
   ]
  },
  {
   "cell_type": "code",
   "execution_count": null,
   "id": "1f169895-1f99-4c86-a288-3206b7531664",
   "metadata": {},
   "outputs": [],
   "source": [
    "class ClfSwitcher(BaseEstimator):\n",
    "    \n",
    "    def __init__(self, estimator=RandomForestClassifier()):\n",
    "        \"\"\"\n",
    "        A Custom BaseEstimator that can switch between classifiers.\n",
    "        \n",
    "        Parameters\n",
    "        ----------\n",
    "        estimator: sklearn object, the classifier\n",
    "        \"\"\"\n",
    "        self.estimator = estimator\n",
    "    \n",
    "    def fit(self, X, y):\n",
    "        self.estimator.fit(X, y)\n",
    "        return self\n",
    "    \n",
    "    def predict(self, X):\n",
    "        return self.estimator.predict(X)\n",
    "    \n",
    "    def predict_proba(self, X):\n",
    "        return self.estimator.predict_proba(X)\n",
    "    \n",
    "    def score(self, X, y):\n",
    "        return self.estimator.score(X, y)"
   ]
  },
  {
   "cell_type": "code",
   "execution_count": null,
   "id": "2aa6bbfa-5f96-4786-b86e-a30b178ba0cf",
   "metadata": {},
   "outputs": [],
   "source": [
    "pipeline = Pipeline([\n",
    "    ('tfidf', TfidfVectorizer()),\n",
    "    ('clf', ClfSwitcher())\n",
    "])"
   ]
  },
  {
   "cell_type": "code",
   "execution_count": null,
   "id": "f7e8b636-3560-4cbb-89ec-29ff5172b20e",
   "metadata": {},
   "outputs": [],
   "source": [
    "RS = 47\n",
    "grid = ParameterGrid({\n",
    "    'clf__estimator': [\n",
    "        MultiOutputClassifier(LogisticRegression(class_weight='balanced', random_state=RS), n_jobs=-1),\n",
    "        MultiOutputClassifier(SGDClassifier(class_weight='balanced', random_state=RS, loss='modified_huber'), n_jobs=-1),\n",
    "        MultiOutputClassifier(LinearSVC(class_weight='balanced', random_state=RS), n_jobs=-1),\n",
    "        KNeighborsClassifier(n_jobs=-1),\n",
    "        RandomForestClassifier(class_weight='balanced', random_state=RS, n_jobs=-1)\n",
    "    ],\n",
    "    'tfidf__ngram_range': [(1,1), (1,2)]\n",
    "})\n",
    "\n",
    "models = [\n",
    "    'logreg1', 'logreg2', 'sgd1', 'sgd2', 'svm1', 'svm2', 'knn1', 'knn2', 'rf1', 'rf2'\n",
    "]"
   ]
  },
  {
   "cell_type": "code",
   "execution_count": null,
   "id": "45e30c69-9f80-4dff-bc6b-cb6203d824e2",
   "metadata": {},
   "outputs": [],
   "source": [
    "import numpy as np\n",
    "y_true_train = [[label_dic[str(lab)]  for lab in label] for label in labels]\n",
    "\n",
    "y_true1_train = np.asarray([ np.asarray([1 if i in lab else 0 for i in range(len(label_dic.items()))]) for lab in y_true_train])\n"
   ]
  },
  {
   "cell_type": "code",
   "execution_count": null,
   "id": "b57dea03-062d-43c9-81c5-f9cab6a5cddb",
   "metadata": {},
   "outputs": [],
   "source": [
    "from sklearn.metrics import precision_recall_fscore_support\n",
    "scores = pd.DataFrame()\n",
    "def score(y_true, y_pred, index):\n",
    "    \"\"\"Calculate precision, recall, and f1 score\"\"\"\n",
    "    \n",
    "    metrics = precision_recall_fscore_support(y_true, y_pred, average='weighted')\n",
    "    performance = {'precision': metrics[0], 'recall': metrics[1], 'f1': metrics[2]}\n",
    "    return pd.DataFrame(performance, index=[index])\n",
    "\n",
    "\n",
    "\n",
    "for model, params in tqdm(zip(models, grid), total=len(models)):\n",
    "    pipeline.set_params(**params)\n",
    "    pipeline.fit(texts, y_true1_train)\n",
    "    y_pred = pipeline.predict(testtexts)\n",
    "    machine_learning = score(y_true1, y_pred, model)\n",
    "    scores = pd.concat([scores, machine_learning])\n",
    "    \n",
    "scores"
   ]
  }
 ],
 "metadata": {
  "kernelspec": {
   "display_name": "py39",
   "language": "python",
   "name": "py39"
  },
  "language_info": {
   "codemirror_mode": {
    "name": "ipython",
    "version": 3
   },
   "file_extension": ".py",
   "mimetype": "text/x-python",
   "name": "python",
   "nbconvert_exporter": "python",
   "pygments_lexer": "ipython3",
   "version": "3.9.7"
  }
 },
 "nbformat": 4,
 "nbformat_minor": 5
}
